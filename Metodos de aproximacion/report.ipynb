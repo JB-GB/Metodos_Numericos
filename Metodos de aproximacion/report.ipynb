{
 "cells": [
  {
   "cell_type": "markdown",
   "id": "7cce8414",
   "metadata": {},
   "source": [
    "# Informe: Diferenciación e Integración numérica\n",
    "Este notebook ejecuta los ejemplos del proyecto, genera tablas con las aproximaciones\n",
    "y grafica errores para estudiar la convergencia. Está diseñado para ser ejecutado\n",
    "en Windows o Linux usando el entorno virtual creado por `bootstrap_env.py`."
   ]
  },
  {
   "cell_type": "markdown",
   "id": "15226688",
   "metadata": {},
   "source": [
    "## 1) Preparación del entorno y módulos\n",
    "Asegúrate de haber ejecutado `python bootstrap_env.py` desde la carpeta `Metodos de aproximacion`\n",
    "para crear el entorno y las dependencias. Luego activa el entorno y ejecuta las celdas siguientes."
   ]
  },
  {
   "cell_type": "code",
   "execution_count": null,
   "id": "7aa6eb25",
   "metadata": {},
   "outputs": [],
   "source": [
    "# Importar módulos principales y preparar paths (funciona con carpeta con espacios)\n",
    "import os\n",
    "import sys\n",
    "# Añadir la carpeta del módulo al path\n",
    "module_dir = os.path.abspath(os.path.dirname(__file__)) if '__file__' in globals() else os.getcwd()\n",
    "module_dir = os.path.join(module_dir)\n",
    "if module_dir not in sys.path:\n",
    "    sys.path.insert(0, module_dir)\n",
    "from numerical_tools import (\n",
    "    f_x_ln_x, f_1_plus_ln_x, exact_derivative_x_ln_x, exact_integral_of_1_plus_ln_x,\n",
    "    forward_difference, backward_difference, central_difference, three_point_forward, three_point_backward,\n",
    "    midpoint_rule, trapezoid_rule, simpson_rule, composite_simpson, composite_midpoint, max_abs_on_interval\n",
    ")\n",
    "print('Módulos cargados con éxito')"
   ]
  },
  {
   "cell_type": "markdown",
   "id": "a0f05ffe",
   "metadata": {},
   "source": [
    "## 2) Diferenciación — f(x)=x ln x en x0=2 con h=0.1\n",
    "Calculamos las aproximaciones solicitadas y mostramos una tabla. También estimamos las cotas usando muestreo."
   ]
  },
  {
   "cell_type": "code",
   "execution_count": null,
   "id": "0c449939",
   "metadata": {},
   "outputs": [],
   "source": [
    "x0 = 2.0\n",
    "h = 0.1\n",
    "a = x0 - 2*h\n",
    "b = x0 + 2*h\n",
    "methods = {\n",
    "    'Forward (1-step)': forward_difference(f_x_ln_x, x0, h),\n",
    "    'Backward (1-step)': backward_difference(f_x_ln_x, x0, h),\n",
    "    'Central (3-pt)': central_difference(f_x_ln_x, x0, h),\n",
    "    '3-pt forward (left)': three_point_forward(f_x_ln_x, x0, h),\n",
    "    '3-pt backward (right)': three_point_backward(f_x_ln_x, x0, h),\n",
    "}\n",
    "exact = exact_derivative_x_ln_x(x0)\n",
    "rows = []\n",
    "for name, value in methods.items():\n",
    "    # estimación simple de cota\n",
    "    if 'Central' in name:\n",
    "        def f3(x):\n",
    "            return -1.0/(x*x)\n",
    "        M = max_abs_on_interval(lambda x: abs(f3(x)), a, b)\n",
    "        cota = M*(h**2)/6.0\n",
    "    elif '3-pt' in name:\n",
    "        def f3(x):\n",
    "            return -1.0/(x*x)\n",
    "        M = max_abs_on_interval(lambda x: abs(f3(x)), a, b)\n",
    "        cota = M*(h**2)/3.0\n",
    "    else:\n",
    "        def f2(x):\n",
    "            return 1.0/x\n",
    "        M = max_abs_on_interval(lambda x: abs(f2(x)), a, b)\n",
    "        cota = M*abs(h)/2.0\n",
    "    rows.append({\n",
    "        'Metodo': name,\n",
    "        'Aproximacion': value,\n",
    "        'Valor exacto': exact,\n",
    "        'Error absoluto': abs(value-exact),\n",
    "        'Cota teorica (estimada)': cota,\n",
    "    })\n",
    "\n",
    "# Mostrar con pandas si está disponible\n",
    "try:\n",
    "    import pandas as pd\n",
    "    df = pd.DataFrame(rows)\n",
    "    display(df)\n",
    "except Exception:\n",
    "    for r in rows:\n",
    "        print(r)"
   ]
  },
  {
   "cell_type": "markdown",
   "id": "9407498e",
   "metadata": {},
   "source": [
    "## 3) Integración — f(x)=1+ln x en [1,2]\n",
    "Calculamos las reglas solicitadas, comparamos con la integral exacta y mostramos cotas estimadas."
   ]
  },
  {
   "cell_type": "code",
   "execution_count": null,
   "id": "dd573c6e",
   "metadata": {},
   "outputs": [],
   "source": [
    "a = 1.0\n",
    "b = 2.0\n",
    "results = []\n",
    "I_mid = midpoint_rule(f_1_plus_ln_x, a, b)\n",
    "I_trap = trapezoid_rule(f_1_plus_ln_x, a, b)\n",
    "I_simp = simpson_rule(f_1_plus_ln_x, a, b)\n",
    "I_simp_comp = composite_simpson(f_1_plus_ln_x, a, b, m=1)\n",
    "I_mid_comp = composite_midpoint(f_1_plus_ln_x, a, b, n=5)\n",
    "I_exact = exact_integral_of_1_plus_ln_x(a, b)\n",
    "# estimaciones simples de las cotas\n",
    "def f2(x):\n",
    "    return -1.0/(x*x)\n",
    "M2 = max_abs_on_interval(lambda x: abs(f2(x)), a, b)\n",
    "cota_mid = ((b-a)**3)/24.0 * M2\n",
    "cota_trap = ((b-a)**3)/12.0 * M2\n",
    "# Para Simpson usamos una estimación de f4\n",
    "def f4(x):\n",
    "    return 6.0/(x**4)\n",
    "M4 = max_abs_on_interval(lambda x: abs(f4(x)), a, b)\n",
    "cota_simp = ((b-a)**5)/2880.0 * M4\n",
    "h = (b-a)/5.0\n",
    "cota_mid_comp = 5 * ((h**3)/24.0) * M2\n",
    "results = [\n",
    "    ('Midpoint (simple)', I_mid, cota_mid),\n",
    "    ('Trapezoid (simple)', I_trap, cota_trap),\n",
    "    ('Simpson (simple)', I_simp, cota_simp),\n",
    "    ('Simpson compuesta (2 subintervalos)', I_simp_comp, cota_simp),\n",
    "    ('Midpoint compuesta (5 subintervalos)', I_mid_comp, cota_mid_comp),\n",
    "]\n",
    "rows = []\n",
    "for name, val, cota in results:\n",
    "    rows.append({\n",
    "        'Metodo': name,\n",
    "        'Aproximacion': val,\n",
    "        'Valor exacto': I_exact,\n",
    "        'Error absoluto': abs(val - I_exact),\n",
    "        'Cota teorica (estimada)': cota,\n",
    "    })\n",
    "try:\n",
    "    import pandas as pd\n",
    "    df = pd.DataFrame(rows)\n",
    "    display(df)\n",
    "except Exception:\n",
    "    for r in rows:\n",
    "        print(r)"
   ]
  },
  {
   "cell_type": "markdown",
   "id": "18176218",
   "metadata": {},
   "source": [
    "## 4) Gráficas de convergencia (opcional)\n",
    "Aquí vemos cómo cambia el error con h para las fórmulas más comunes."
   ]
  },
  {
   "cell_type": "code",
   "execution_count": null,
   "id": "68c8b202",
   "metadata": {},
   "outputs": [],
   "source": [
    "import math\n",
    "try:\n",
    "    import matplotlib.pyplot as plt\n",
    "except Exception:\n",
    "    plt = None\n",
    "\n",
    "# Barrido de h para estudiar convergencia en x0=2\n",
    "x0 = 2.0\n",
    "hs = [10**(-k) for k in range(1,6)]\n",
    "errs_central = []\n",
    "errs_forward = []\n",
    "for h in hs:\n",
    "    cen = central_difference(f_x_ln_x, x0, h)\n",
    "    fwd = forward_difference(f_x_ln_x, x0, h)\n",
    "    exact = exact_derivative_x_ln_x(x0)\n",
    "    errs_central.append(abs(cen - exact))\n",
    "    errs_forward.append(abs(fwd - exact))\n",
    "\n",
    "if plt is not None:\n",
    "    plt.loglog(hs, errs_forward, '-o', label='Forward')\n",
    "    plt.loglog(hs, errs_central, '-o', label='Central')\n",
    "    plt.gca().invert_xaxis()\n",
    "    plt.xlabel('h')\n",
    "    plt.ylabel('Error absoluto')\n",
    "    plt.legend()\n",
    "    plt.title('Convergencia de fórmulas de derivada')\n",
    "    plt.show()\n",
    "else:\n",
    "    print('matplotlib no está disponible: mostrando tabla de errores')\n",
    "    for k, h in enumerate(hs):\n",
    "        print(f'h={h}: forward={errs_forward[k]:.3e}, central={errs_central[k]:.3e}')"
   ]
  },
  {
   "cell_type": "markdown",
   "id": "01d8753e",
   "metadata": {},
   "source": [
    "---\n",
    "### Notas finales\n",
    "- Si planeas ejecutar en Linux, usa `python3 bootstrap_env.py` y luego `source .venv/bin/activate`.\n",
    "- El notebook intenta usar `pandas` y `matplotlib` si están disponibles; si no, imprime tablas y valores por consola.\n",
    "- Para automatizar completamente (por ejemplo en entornos CI), ejecuta `bootstrap_env.py` y luego `python run_differentiation.py --no-pandas` o `python run_integration.py --no-pandas`."
   ]
  }
 ],
 "metadata": {
  "language_info": {
   "name": "python"
  }
 },
 "nbformat": 4,
 "nbformat_minor": 5
}
